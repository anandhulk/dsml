{
  "cells": [
    {
      "cell_type": "markdown",
      "metadata": {
        "id": "view-in-github",
        "colab_type": "text"
      },
      "source": [
        "<a href=\"https://colab.research.google.com/github/Gopika-C/S3-Data-Science-Lab/blob/main/EXPERIMENT1_a.ipynb\" target=\"_parent\"><img src=\"https://colab.research.google.com/assets/colab-badge.svg\" alt=\"Open In Colab\"/></a>"
      ]
    },
    {
      "cell_type": "markdown",
      "metadata": {
        "id": "R9mw_MF0TKzh"
      },
      "source": [
        "<h1 align=\"center\">  Experiment 1.A</h1> \n",
        "Date___________________\n",
        "\n",
        "Aim: To perform a review of python programming                                                  "
      ]
    },
    {
      "cell_type": "markdown",
      "metadata": {
        "id": "jJUrTUeEUQGY"
      },
      "source": [
        "**Basic Data Types**"
      ]
    },
    {
      "cell_type": "code",
      "execution_count": 2,
      "metadata": {
        "colab": {
          "base_uri": "https://localhost:8080/"
        },
        "id": "_0rcZGZfWQHj",
        "outputId": "95615eaa-6618-429b-b055-2a313e97e9fc"
      },
      "outputs": [
        {
          "output_type": "stream",
          "name": "stdout",
          "text": [
            "hello World\n"
          ]
        }
      ],
      "source": [
        "print(\"hello World\")\n"
      ]
    },
    {
      "cell_type": "code",
      "execution_count": 3,
      "metadata": {
        "colab": {
          "base_uri": "https://localhost:8080/"
        },
        "id": "B3vYNTn8WoN5",
        "outputId": "e9349097-7821-476c-cbcb-0a399d219a2f"
      },
      "outputs": [
        {
          "output_type": "stream",
          "name": "stdout",
          "text": [
            "5\n",
            "<class 'int'>\n"
          ]
        }
      ],
      "source": [
        "a=5\n",
        "print(a)\n",
        "print(type(a))"
      ]
    },
    {
      "cell_type": "code",
      "execution_count": 6,
      "metadata": {
        "colab": {
          "base_uri": "https://localhost:8080/"
        },
        "id": "Zw4DhlDlZeSG",
        "outputId": "7df52a5e-6145-4a4b-ca03-1eb9ea51815a"
      },
      "outputs": [
        {
          "output_type": "stream",
          "name": "stdout",
          "text": [
            "1.5\n",
            "<class 'float'>\n"
          ]
        }
      ],
      "source": [
        "f=1.5\n",
        "print(f)\n",
        "print(type(f))"
      ]
    },
    {
      "cell_type": "code",
      "execution_count": 5,
      "metadata": {
        "colab": {
          "base_uri": "https://localhost:8080/"
        },
        "id": "uMEeGhVDZvMO",
        "outputId": "bcc2410b-8e49-4b46-a254-673bc5372f79"
      },
      "outputs": [
        {
          "output_type": "stream",
          "name": "stdout",
          "text": [
            "hello\n",
            "<class 'str'>\n"
          ]
        }
      ],
      "source": [
        "s=\"hello\"\n",
        "print(s)\n",
        "print(type(s))"
      ]
    },
    {
      "cell_type": "code",
      "execution_count": 7,
      "metadata": {
        "colab": {
          "base_uri": "https://localhost:8080/"
        },
        "id": "HuWBxuMgaMDq",
        "outputId": "145b9097-1bdc-429e-9f95-e39dca605ce4"
      },
      "outputs": [
        {
          "output_type": "stream",
          "name": "stdout",
          "text": [
            "True\n",
            "<class 'bool'>\n"
          ]
        }
      ],
      "source": [
        "b=True\n",
        "print(b)\n",
        "print(type(b))"
      ]
    },
    {
      "cell_type": "code",
      "execution_count": 8,
      "metadata": {
        "colab": {
          "base_uri": "https://localhost:8080/"
        },
        "id": "sYlrN_Draxsp",
        "outputId": "3e3ef5fa-781e-4c94-a17a-c430d8046d78"
      },
      "outputs": [
        {
          "output_type": "stream",
          "name": "stdout",
          "text": [
            "True False\n"
          ]
        }
      ],
      "source": [
        "t=True\n",
        "f=False\n",
        "print(t,f)"
      ]
    },
    {
      "cell_type": "code",
      "execution_count": 9,
      "metadata": {
        "colab": {
          "base_uri": "https://localhost:8080/"
        },
        "id": "B-MQPhbGaVUJ",
        "outputId": "016c4d32-e7a5-422e-b3e1-19a62c13509f"
      },
      "outputs": [
        {
          "output_type": "stream",
          "name": "stdout",
          "text": [
            "(5+3j)\n",
            "<class 'complex'>\n"
          ]
        }
      ],
      "source": [
        "t=5+3j\n",
        "print(t)\n",
        "print(type(t))"
      ]
    },
    {
      "cell_type": "markdown",
      "metadata": {
        "id": "xa1ByJ4eakF4"
      },
      "source": [
        "**ARITHMETIC OPERATORS**"
      ]
    },
    {
      "cell_type": "code",
      "execution_count": 10,
      "metadata": {
        "colab": {
          "base_uri": "https://localhost:8080/"
        },
        "id": "gbXS-hrRXNN0",
        "outputId": "1125ecf2-05d3-4bf9-998a-9c85abbcdc81"
      },
      "outputs": [
        {
          "output_type": "stream",
          "name": "stdout",
          "text": [
            "10\n"
          ]
        }
      ],
      "source": [
        "a=7\n",
        "b=3\n",
        "sum=a+b\n",
        "print(sum)"
      ]
    },
    {
      "cell_type": "code",
      "execution_count": 11,
      "metadata": {
        "colab": {
          "base_uri": "https://localhost:8080/"
        },
        "id": "Ub5Fq_svdifT",
        "outputId": "c35c7465-eedf-4067-a55d-03c599c39231"
      },
      "outputs": [
        {
          "output_type": "stream",
          "name": "stdout",
          "text": [
            "4\n"
          ]
        }
      ],
      "source": [
        "diff=a-b\n",
        "print(diff)\n"
      ]
    },
    {
      "cell_type": "code",
      "execution_count": 12,
      "metadata": {
        "colab": {
          "base_uri": "https://localhost:8080/"
        },
        "id": "IFRUd_99dkwM",
        "outputId": "d3122ba7-2242-426e-d32e-00f90cd78715"
      },
      "outputs": [
        {
          "output_type": "stream",
          "name": "stdout",
          "text": [
            "21\n"
          ]
        }
      ],
      "source": [
        "pro=a*b\n",
        "print(pro)\n"
      ]
    },
    {
      "cell_type": "code",
      "execution_count": 13,
      "metadata": {
        "colab": {
          "base_uri": "https://localhost:8080/"
        },
        "id": "sOH3uQH_dt8Q",
        "outputId": "9e2fb1cb-5083-4adf-d8fe-146c4e08ea71"
      },
      "outputs": [
        {
          "output_type": "stream",
          "name": "stdout",
          "text": [
            "2.3333333333333335\n"
          ]
        }
      ],
      "source": [
        "quo=a/b\n",
        "print(quo)\n"
      ]
    },
    {
      "cell_type": "code",
      "execution_count": 14,
      "metadata": {
        "colab": {
          "base_uri": "https://localhost:8080/"
        },
        "id": "U41Rs0LydzM7",
        "outputId": "a829fefa-d5ab-4321-9bf8-1d042ae439ca"
      },
      "outputs": [
        {
          "output_type": "stream",
          "name": "stdout",
          "text": [
            "2\n"
          ]
        }
      ],
      "source": [
        "iquo=a//b\n",
        "print(iquo)\n"
      ]
    },
    {
      "cell_type": "code",
      "execution_count": 15,
      "metadata": {
        "colab": {
          "base_uri": "https://localhost:8080/"
        },
        "id": "88SofQpMd3V5",
        "outputId": "cfdb5000-fac6-4df4-dfaf-05d11515a33f"
      },
      "outputs": [
        {
          "output_type": "stream",
          "name": "stdout",
          "text": [
            "1\n"
          ]
        }
      ],
      "source": [
        "rem=a % b\n",
        "print(rem)"
      ]
    },
    {
      "cell_type": "code",
      "execution_count": 16,
      "metadata": {
        "colab": {
          "base_uri": "https://localhost:8080/"
        },
        "id": "fCVa1OVfd7jp",
        "outputId": "8844948a-ae6a-4dbc-fa3f-d7422dc4d220"
      },
      "outputs": [
        {
          "output_type": "stream",
          "name": "stdout",
          "text": [
            "343\n"
          ]
        }
      ],
      "source": [
        "pow= a**b\n",
        "print(pow)"
      ]
    },
    {
      "cell_type": "markdown",
      "metadata": {
        "id": "TrDk2-ZVctQT"
      },
      "source": [
        "**BOOLEAN OPERATIONS**"
      ]
    },
    {
      "cell_type": "code",
      "execution_count": 17,
      "metadata": {
        "colab": {
          "base_uri": "https://localhost:8080/"
        },
        "id": "5LDPNnVCc3pJ",
        "outputId": "ec622edb-1ddb-4d6d-f5b8-c765ab9f8354"
      },
      "outputs": [
        {
          "output_type": "stream",
          "name": "stdout",
          "text": [
            "True False\n"
          ]
        }
      ],
      "source": [
        "t=True\n",
        "f=False\n",
        "print(t,f)"
      ]
    },
    {
      "cell_type": "code",
      "execution_count": 18,
      "metadata": {
        "colab": {
          "base_uri": "https://localhost:8080/"
        },
        "id": "TAsnrkY2X_Bw",
        "outputId": "5bc32738-3896-42f9-ae62-ab750c358c0a"
      },
      "outputs": [
        {
          "output_type": "stream",
          "name": "stdout",
          "text": [
            "True\n"
          ]
        }
      ],
      "source": [
        "p=5>3\n",
        "print(p)"
      ]
    },
    {
      "cell_type": "code",
      "execution_count": 19,
      "metadata": {
        "colab": {
          "base_uri": "https://localhost:8080/"
        },
        "id": "5S8hL_PHdCyY",
        "outputId": "db241e08-d202-46ca-d57f-17ec6a669112"
      },
      "outputs": [
        {
          "output_type": "stream",
          "name": "stdout",
          "text": [
            "False\n"
          ]
        }
      ],
      "source": [
        "q=-1<-12.5\n",
        "print(q)"
      ]
    },
    {
      "cell_type": "code",
      "execution_count": 20,
      "metadata": {
        "colab": {
          "base_uri": "https://localhost:8080/"
        },
        "id": "7tae-LlJe_YE",
        "outputId": "dabeb1c2-bd98-4a2c-fc04-28780b1079d3"
      },
      "outputs": [
        {
          "output_type": "stream",
          "name": "stdout",
          "text": [
            "False\n"
          ]
        }
      ],
      "source": [
        "print(p and q)"
      ]
    },
    {
      "cell_type": "code",
      "execution_count": 21,
      "metadata": {
        "colab": {
          "base_uri": "https://localhost:8080/"
        },
        "id": "K1Y_LF2LfGNz",
        "outputId": "7b3b79b8-5044-4362-fc97-cf64eb0d1f7b"
      },
      "outputs": [
        {
          "output_type": "stream",
          "name": "stdout",
          "text": [
            "True\n"
          ]
        }
      ],
      "source": [
        "print(p or p)"
      ]
    },
    {
      "cell_type": "code",
      "execution_count": 22,
      "metadata": {
        "colab": {
          "base_uri": "https://localhost:8080/"
        },
        "id": "zJKxspuqfLkj",
        "outputId": "ddfed6d8-efcb-4cd4-b5be-1f8b82e6a82b"
      },
      "outputs": [
        {
          "output_type": "stream",
          "name": "stdout",
          "text": [
            "True\n"
          ]
        }
      ],
      "source": [
        "print(not q)"
      ]
    },
    {
      "cell_type": "markdown",
      "metadata": {
        "id": "DuBWs1gNfmBP"
      },
      "source": [
        "**STRING OPERATIONS**"
      ]
    },
    {
      "cell_type": "code",
      "execution_count": 23,
      "metadata": {
        "colab": {
          "base_uri": "https://localhost:8080/"
        },
        "id": "DTwfzsMSfrVS",
        "outputId": "90bad75c-0302-4844-f8cc-554f60adc847"
      },
      "outputs": [
        {
          "output_type": "stream",
          "name": "stdout",
          "text": [
            "hello\n",
            "hello\n"
          ]
        }
      ],
      "source": [
        "s='hello'\n",
        "u=\"hello\"\n",
        "print(s)\n",
        "print(u)"
      ]
    },
    {
      "cell_type": "code",
      "execution_count": 24,
      "metadata": {
        "colab": {
          "base_uri": "https://localhost:8080/"
        },
        "id": "99I2FyawgB58",
        "outputId": "1a36b694-aba1-41a1-c736-9ec2907baaf8"
      },
      "outputs": [
        {
          "output_type": "stream",
          "name": "stdout",
          "text": [
            "python world\n"
          ]
        }
      ],
      "source": [
        "s1=\"python\"\n",
        "s2='world'\n",
        "s3=s1+' '+s2\n",
        "print(s3)"
      ]
    },
    {
      "cell_type": "code",
      "execution_count": 25,
      "metadata": {
        "colab": {
          "base_uri": "https://localhost:8080/"
        },
        "id": "FTEzk5yogoL7",
        "outputId": "ea769b93-47f9-4309-827e-40d15d422bcf"
      },
      "outputs": [
        {
          "output_type": "stream",
          "name": "stdout",
          "text": [
            "python world 1011\n"
          ]
        }
      ],
      "source": [
        "s3='%s %s %d' %(s1,s2,1011)\n",
        "print(s3)"
      ]
    },
    {
      "cell_type": "code",
      "execution_count": 26,
      "metadata": {
        "colab": {
          "base_uri": "https://localhost:8080/"
        },
        "id": "FypKWv7DHf88",
        "outputId": "6989a60e-70c8-4f65-ae37-21a0e4eaafe0"
      },
      "outputs": [
        {
          "output_type": "stream",
          "name": "stdout",
          "text": [
            "17\n"
          ]
        }
      ],
      "source": [
        "print(len(s3))"
      ]
    },
    {
      "cell_type": "code",
      "execution_count": 27,
      "metadata": {
        "colab": {
          "base_uri": "https://localhost:8080/"
        },
        "id": "dld5_x03Hw3j",
        "outputId": "b1d50f83-89ad-4b32-98ff-d66e6b07004c"
      },
      "outputs": [
        {
          "output_type": "stream",
          "name": "stdout",
          "text": [
            "PYTHON WORLD 1011\n"
          ]
        }
      ],
      "source": [
        "print(s3.upper())"
      ]
    },
    {
      "cell_type": "code",
      "execution_count": 28,
      "metadata": {
        "colab": {
          "base_uri": "https://localhost:8080/"
        },
        "id": "wAUmA9HlH6jz",
        "outputId": "fe5621a6-f936-4206-de7d-741cffa8427c"
      },
      "outputs": [
        {
          "output_type": "stream",
          "name": "stdout",
          "text": [
            "Python world 1011\n"
          ]
        }
      ],
      "source": [
        "print(s3.capitalize())"
      ]
    },
    {
      "cell_type": "code",
      "execution_count": 29,
      "metadata": {
        "colab": {
          "base_uri": "https://localhost:8080/"
        },
        "id": "M1MPoWiwWnXW",
        "outputId": "cd45840e-ea9c-4cb1-b531-7488b00183c7"
      },
      "outputs": [
        {
          "output_type": "stream",
          "name": "stdout",
          "text": [
            "python world 1011\n"
          ]
        }
      ],
      "source": [
        "print(s3.lower())"
      ]
    },
    {
      "cell_type": "code",
      "execution_count": 30,
      "metadata": {
        "colab": {
          "base_uri": "https://localhost:8080/"
        },
        "id": "-MNT3rxCW-YD",
        "outputId": "140ddaec-9e72-474a-b14b-b19812187e11"
      },
      "outputs": [
        {
          "output_type": "stream",
          "name": "stdout",
          "text": [
            "['hello', 'world', 'how', 'are', 'you']\n"
          ]
        }
      ],
      "source": [
        "print('hello world how are you'.split(' '))"
      ]
    },
    {
      "cell_type": "code",
      "execution_count": 31,
      "metadata": {
        "colab": {
          "base_uri": "https://localhost:8080/"
        },
        "id": "9EOxJQO6YEoM",
        "outputId": "508ade76-d52a-45ca-83d5-b6efb6192e30"
      },
      "outputs": [
        {
          "output_type": "stream",
          "name": "stdout",
          "text": [
            "beek\n"
          ]
        }
      ],
      "source": [
        "print('book'.replace('o','e'))"
      ]
    },
    {
      "cell_type": "code",
      "execution_count": 32,
      "metadata": {
        "colab": {
          "base_uri": "https://localhost:8080/"
        },
        "id": "hsOyjJRnYQWx",
        "outputId": "8f41684b-a08c-4472-efd1-d88aa0302965"
      },
      "outputs": [
        {
          "output_type": "stream",
          "name": "stdout",
          "text": [
            "2\n",
            "-1\n"
          ]
        }
      ],
      "source": [
        "word='jewellery'\n",
        "print(word.find('well'))\n",
        "print(word.find('is'))"
      ]
    },
    {
      "cell_type": "markdown",
      "metadata": {
        "id": "VWJyC33mavTD"
      },
      "source": [
        "**CONTROL STRUCTURES**"
      ]
    },
    {
      "cell_type": "markdown",
      "metadata": {
        "id": "1r3zqpD6cNST"
      },
      "source": [
        "IF-ELSE"
      ]
    },
    {
      "cell_type": "code",
      "execution_count": 33,
      "metadata": {
        "colab": {
          "base_uri": "https://localhost:8080/"
        },
        "id": "6qXsN2vNa0gU",
        "outputId": "27422998-bae6-4a40-e8bc-d2a4a3312f5f"
      },
      "outputs": [
        {
          "output_type": "stream",
          "name": "stdout",
          "text": [
            "3 digit\n"
          ]
        }
      ],
      "source": [
        "number= 123\n",
        "if number>99 and number<1000 :\n",
        "     print('3 digit')\n",
        "else:\n",
        "     print('Not 3 digit')"
      ]
    },
    {
      "cell_type": "code",
      "execution_count": 34,
      "metadata": {
        "colab": {
          "base_uri": "https://localhost:8080/"
        },
        "id": "oB_hiJSUf61l",
        "outputId": "e516a3ba-5ffc-45f4-a074-dd579beeae7e"
      },
      "outputs": [
        {
          "output_type": "stream",
          "name": "stdout",
          "text": [
            "Are you familiar with python No\n",
            "You are at the right place:-)\n"
          ]
        }
      ],
      "source": [
        "response=input('Are you familiar with python ')\n",
        "if response.upper()==\"YES\":\n",
        "  print(\"You can skip this course:-)\")\n",
        "elif response.upper() == \"NO\":\n",
        "  print(\"You are at the right place:-)\")\n",
        "else:\n",
        "  print('Sorry wrong input :-(')"
      ]
    },
    {
      "cell_type": "markdown",
      "metadata": {
        "id": "7Ra-V1eWz2qU"
      },
      "source": [
        "FOR LOOP"
      ]
    },
    {
      "cell_type": "code",
      "execution_count": 35,
      "metadata": {
        "colab": {
          "base_uri": "https://localhost:8080/"
        },
        "id": "HKS3JeMWz8eQ",
        "outputId": "68cb5ae1-d3ed-4e9e-a128-131b87a27397"
      },
      "outputs": [
        {
          "output_type": "stream",
          "name": "stdout",
          "text": [
            "0 1 2 3 4 5 6 7 8 9 "
          ]
        }
      ],
      "source": [
        "for x in range(10):\n",
        "  print(x,end=' ')"
      ]
    },
    {
      "cell_type": "code",
      "execution_count": 36,
      "metadata": {
        "colab": {
          "base_uri": "https://localhost:8080/"
        },
        "id": "-Ify84sb0LPz",
        "outputId": "e4ae0c79-40bd-4f12-98c6-ba80e38b991b"
      },
      "outputs": [
        {
          "output_type": "stream",
          "name": "stdout",
          "text": [
            "Enter a limit :76\n",
            "Odd sum=1444\n"
          ]
        }
      ],
      "source": [
        "limit=int(input('Enter a limit :'))\n",
        "sum=0\n",
        "for i in range(1,limit+1):\n",
        "  if i%2!=0:\n",
        "    sum+=i\n",
        "print(\"Odd sum=\"+str(sum))"
      ]
    },
    {
      "cell_type": "code",
      "execution_count": 37,
      "metadata": {
        "colab": {
          "base_uri": "https://localhost:8080/"
        },
        "id": "eT8vz86f4OyR",
        "outputId": "df766ef8-fb74-478d-ef46-b5250c114f8c"
      },
      "outputs": [
        {
          "output_type": "stream",
          "name": "stdout",
          "text": [
            "[0, 1, 2, 3, 4, 5, 6, 7, 8, 9]\n"
          ]
        }
      ],
      "source": [
        "print(list(range(10)))"
      ]
    },
    {
      "cell_type": "code",
      "execution_count": 38,
      "metadata": {
        "colab": {
          "base_uri": "https://localhost:8080/"
        },
        "id": "yZFsjZVp4Vd5",
        "outputId": "b06c2248-dac5-4aae-d327-b4933a9a8a07"
      },
      "outputs": [
        {
          "output_type": "stream",
          "name": "stdout",
          "text": [
            "[1, 2, 3, 4, 5, 6, 7, 8, 9]\n"
          ]
        }
      ],
      "source": [
        "print(list(range(1,10)))"
      ]
    },
    {
      "cell_type": "code",
      "execution_count": 39,
      "metadata": {
        "colab": {
          "base_uri": "https://localhost:8080/"
        },
        "id": "L6frHzH74X1w",
        "outputId": "098647b2-e340-4a16-ab94-3a3dca55e405"
      },
      "outputs": [
        {
          "output_type": "stream",
          "name": "stdout",
          "text": [
            "[1, 3, 5, 7, 9]\n"
          ]
        }
      ],
      "source": [
        "print(list(range(1,10,2)))"
      ]
    },
    {
      "cell_type": "markdown",
      "metadata": {
        "id": "KPHHExTH4fBC"
      },
      "source": [
        "WHILE LOOP"
      ]
    },
    {
      "cell_type": "code",
      "execution_count": 42,
      "metadata": {
        "colab": {
          "base_uri": "https://localhost:8080/"
        },
        "id": "SSTsoTxB4iPB",
        "outputId": "32add544-a265-4c67-f8a2-d08749698297"
      },
      "outputs": [
        {
          "output_type": "stream",
          "name": "stdout",
          "text": [
            "Enter number :656\n",
            "17\n"
          ]
        }
      ],
      "source": [
        "number=int(input('Enter number :'))\n",
        "s=0\n",
        "while number>0:\n",
        "  s+=number%10\n",
        "  number=number//10\n",
        "print(s)"
      ]
    },
    {
      "cell_type": "markdown",
      "metadata": {
        "id": "EICpe8kd5so5"
      },
      "source": [
        "NESTED LOOP"
      ]
    },
    {
      "cell_type": "code",
      "execution_count": 43,
      "metadata": {
        "colab": {
          "base_uri": "https://localhost:8080/"
        },
        "id": "ixMKUiqm5pf3",
        "outputId": "0c51bb6f-55bf-4827-802b-faf2b2d0fb89"
      },
      "outputs": [
        {
          "output_type": "stream",
          "name": "stdout",
          "text": [
            "Enter number :50\n",
            "2 3 5 7 11 13 17 19 23 29 31 37 41 43 47 "
          ]
        }
      ],
      "source": [
        "limit=int(input('Enter number :'))\n",
        "for num in range (2,limit+1):\n",
        "  is_divisible=False\n",
        "  k=2\n",
        "  while k<=num//2:\n",
        "    if num % k==0:\n",
        "      is_divisible=True\n",
        "      break;\n",
        "    k+=1\n",
        "  if not is_divisible:\n",
        "    print(num,end=' ')"
      ]
    },
    {
      "cell_type": "markdown",
      "metadata": {
        "id": "bcmpcRQ97QNQ"
      },
      "source": [
        "**CONTAINERS**"
      ]
    },
    {
      "cell_type": "markdown",
      "metadata": {
        "id": "UbY2_Bfu7Yh6"
      },
      "source": [
        "LIST"
      ]
    },
    {
      "cell_type": "code",
      "execution_count": 44,
      "metadata": {
        "colab": {
          "base_uri": "https://localhost:8080/"
        },
        "id": "yNF_wC_oZFWe",
        "outputId": "cbf21fa9-d964-4e1a-92d8-cc9f6b10b5ab"
      },
      "outputs": [
        {
          "output_type": "stream",
          "name": "stdout",
          "text": [
            "['a', 'b', 1, 1.2, True]\n",
            "['a', 'b', 1, 1.2, True, 'new']\n"
          ]
        }
      ],
      "source": [
        "mylist=['a','b',1,1.2,True]\n",
        "print(mylist)\n",
        "mylist.append(\"new\")\n",
        "print(mylist)"
      ]
    },
    {
      "cell_type": "code",
      "execution_count": 45,
      "metadata": {
        "colab": {
          "base_uri": "https://localhost:8080/"
        },
        "id": "k537c6TgZo31",
        "outputId": "034ad1a9-0561-4a2c-8e4a-71be0cbc6280"
      },
      "outputs": [
        {
          "output_type": "stream",
          "name": "stdout",
          "text": [
            "new\n"
          ]
        }
      ],
      "source": [
        "print(mylist.pop())"
      ]
    },
    {
      "cell_type": "code",
      "execution_count": 46,
      "metadata": {
        "colab": {
          "base_uri": "https://localhost:8080/"
        },
        "id": "bK6xodGaZvym",
        "outputId": "35733cff-b5a7-469d-f9b0-51a15d0dfd3b"
      },
      "outputs": [
        {
          "output_type": "stream",
          "name": "stdout",
          "text": [
            "['a', 'b', 'new', 1, 1.2, True]\n"
          ]
        }
      ],
      "source": [
        "mylist.insert(2,'new')\n",
        "print(mylist)"
      ]
    },
    {
      "cell_type": "code",
      "execution_count": 47,
      "metadata": {
        "colab": {
          "base_uri": "https://localhost:8080/"
        },
        "id": "8ywRnhwOZ77c",
        "outputId": "e8a6fdea-0fbd-4ce4-c010-a7060c16ae47"
      },
      "outputs": [
        {
          "output_type": "stream",
          "name": "stdout",
          "text": [
            "['a', 'b', 1, 1.2, True]\n"
          ]
        }
      ],
      "source": [
        "mylist.remove('new')\n",
        "print(mylist)"
      ]
    },
    {
      "cell_type": "code",
      "execution_count": 48,
      "metadata": {
        "colab": {
          "base_uri": "https://localhost:8080/"
        },
        "id": "iH67ezloa5GD",
        "outputId": "e191374b-ae81-4bef-e2a5-fe372f9ffc3c"
      },
      "outputs": [
        {
          "output_type": "stream",
          "name": "stdout",
          "text": [
            "[1, 2, 3]\n",
            "['a', 'b', 1, 1.2, True, [1, 2, 3]]\n"
          ]
        }
      ],
      "source": [
        "b=[1,2,3]\n",
        "print(b)\n",
        "mylist.append(b)\n",
        "print(mylist)"
      ]
    },
    {
      "cell_type": "code",
      "execution_count": 49,
      "metadata": {
        "colab": {
          "base_uri": "https://localhost:8080/"
        },
        "id": "YtbsaKLsbMYS",
        "outputId": "a8fb38ca-333d-47b5-e08f-b5ff68105b6d"
      },
      "outputs": [
        {
          "output_type": "stream",
          "name": "stdout",
          "text": [
            "['a', 'b', 1, 1.2, True]\n"
          ]
        }
      ],
      "source": [
        "mylist.remove(b)\n",
        "print(mylist)"
      ]
    },
    {
      "cell_type": "code",
      "execution_count": 50,
      "metadata": {
        "colab": {
          "base_uri": "https://localhost:8080/"
        },
        "id": "O3zA__bvbjrC",
        "outputId": "f4f6a7d5-c235-4418-f086-de2385a60e98"
      },
      "outputs": [
        {
          "output_type": "stream",
          "name": "stdout",
          "text": [
            "['a', 'b', 1, 1.2, True, 1, 2, 3]\n"
          ]
        }
      ],
      "source": [
        "mylist.extend(b)\n",
        "print(mylist)"
      ]
    },
    {
      "cell_type": "code",
      "execution_count": 51,
      "metadata": {
        "colab": {
          "base_uri": "https://localhost:8080/"
        },
        "id": "iR8LCbcCbpyq",
        "outputId": "1a39a281-bcc5-472c-97f9-46daebea857b"
      },
      "outputs": [
        {
          "output_type": "stream",
          "name": "stdout",
          "text": [
            "[1, 2, 3, 4, 5]\n"
          ]
        }
      ],
      "source": [
        "a=[2,3,1,4,5]\n",
        "a.sort()\n",
        "print(a)"
      ]
    },
    {
      "cell_type": "code",
      "execution_count": 52,
      "metadata": {
        "colab": {
          "base_uri": "https://localhost:8080/"
        },
        "id": "tSQr3vT6bsia",
        "outputId": "519f1413-8567-4355-acc1-4e08010a3d74"
      },
      "outputs": [
        {
          "output_type": "stream",
          "name": "stdout",
          "text": [
            "['h', 'e', 'l', 'l', 'o']\n"
          ]
        }
      ],
      "source": [
        "print(list('hello'))"
      ]
    },
    {
      "cell_type": "markdown",
      "metadata": {
        "id": "qZ1h3SLY8B5J"
      },
      "source": [
        "LIST SLICING"
      ]
    },
    {
      "cell_type": "code",
      "execution_count": 53,
      "metadata": {
        "colab": {
          "base_uri": "https://localhost:8080/"
        },
        "id": "hYzozunqb7Nr",
        "outputId": "6dd4564b-3bf1-4f04-9661-00409ce065c2"
      },
      "outputs": [
        {
          "output_type": "stream",
          "name": "stdout",
          "text": [
            "1 10\n"
          ]
        }
      ],
      "source": [
        "numbers=[0,1,2,3,4,5,6,7,8,9,10]\n",
        "print(numbers[1],numbers[-1])"
      ]
    },
    {
      "cell_type": "code",
      "execution_count": 54,
      "metadata": {
        "colab": {
          "base_uri": "https://localhost:8080/"
        },
        "id": "6duAmPlpc0IC",
        "outputId": "4bd98108-0b55-4c7c-ace8-2226dc9aa025"
      },
      "outputs": [
        {
          "output_type": "stream",
          "name": "stdout",
          "text": [
            "[5, 6, 7, 8, 9, 10]\n"
          ]
        }
      ],
      "source": [
        "sliced=numbers[5:11]\n",
        "print(sliced)"
      ]
    },
    {
      "cell_type": "code",
      "execution_count": 56,
      "metadata": {
        "colab": {
          "base_uri": "https://localhost:8080/"
        },
        "id": "rRxFra6BdbTQ",
        "outputId": "cca5ebc9-0816-44d7-f74f-f03cc05defe0"
      },
      "outputs": [
        {
          "output_type": "stream",
          "name": "stdout",
          "text": [
            "[5, 6, 7, 8, 9, 10]\n"
          ]
        }
      ],
      "source": [
        "slice1=numbers[5:]\n",
        "print(slice1)"
      ]
    },
    {
      "cell_type": "code",
      "execution_count": 57,
      "metadata": {
        "colab": {
          "base_uri": "https://localhost:8080/"
        },
        "id": "UqfSxcSIvtHY",
        "outputId": "0d9c39ee-eade-4ad0-c580-cd1957dbab88"
      },
      "outputs": [
        {
          "output_type": "stream",
          "name": "stdout",
          "text": [
            "[0, 1, 2, 3, 4, 5, 6]\n"
          ]
        }
      ],
      "source": [
        "Sliced=numbers[:7]\n",
        "print(Sliced)"
      ]
    },
    {
      "cell_type": "code",
      "execution_count": 58,
      "metadata": {
        "colab": {
          "base_uri": "https://localhost:8080/"
        },
        "id": "JZzZPj6Ddt5v",
        "outputId": "7d4d5380-dbf2-4e63-b2a7-9bfb0fe0afe6"
      },
      "outputs": [
        {
          "output_type": "stream",
          "name": "stdout",
          "text": [
            "[9, 10]\n"
          ]
        }
      ],
      "source": [
        "slice2=numbers[-2:]\n",
        "print(slice2)"
      ]
    },
    {
      "cell_type": "markdown",
      "metadata": {
        "id": "22ugTBsC8OwK"
      },
      "source": [
        "LIST COMPREHENSION"
      ]
    },
    {
      "cell_type": "code",
      "execution_count": 62,
      "metadata": {
        "colab": {
          "base_uri": "https://localhost:8080/"
        },
        "id": "3xNdBkL1eJEW",
        "outputId": "781e231e-4952-46e4-bf64-2092fc01ce87"
      },
      "outputs": [
        {
          "output_type": "stream",
          "name": "stdout",
          "text": [
            "[1, 2, 3, 4, 5, 6, 7]\n"
          ]
        }
      ],
      "source": [
        "numbers=list(range(1,8))\n",
        "print(numbers)"
      ]
    },
    {
      "cell_type": "code",
      "execution_count": 79,
      "metadata": {
        "colab": {
          "base_uri": "https://localhost:8080/",
          "height": 217
        },
        "id": "C1XDqU3deYjJ",
        "outputId": "d06fa8ac-4a71-40cf-8602-c2eda79c9c79"
      },
      "outputs": [
        {
          "output_type": "error",
          "ename": "TypeError",
          "evalue": "ignored",
          "traceback": [
            "\u001b[0;31m---------------------------------------------------------------------------\u001b[0m",
            "\u001b[0;31mTypeError\u001b[0m                                 Traceback (most recent call last)",
            "\u001b[0;32m<ipython-input-79-ffc79a84b265>\u001b[0m in \u001b[0;36m<module>\u001b[0;34m\u001b[0m\n\u001b[1;32m      2\u001b[0m \u001b[0msquare\u001b[0m\u001b[0;34m=\u001b[0m\u001b[0;34m[\u001b[0m\u001b[0;34m]\u001b[0m\u001b[0;34m\u001b[0m\u001b[0;34m\u001b[0m\u001b[0m\n\u001b[1;32m      3\u001b[0m \u001b[0;32mfor\u001b[0m \u001b[0mi\u001b[0m \u001b[0;32min\u001b[0m \u001b[0mnumbers\u001b[0m \u001b[0;34m:\u001b[0m\u001b[0;34m\u001b[0m\u001b[0;34m\u001b[0m\u001b[0m\n\u001b[0;32m----> 4\u001b[0;31m   \u001b[0msquare\u001b[0m\u001b[0;34m.\u001b[0m\u001b[0mappend\u001b[0m\u001b[0;34m(\u001b[0m\u001b[0mpow\u001b[0m\u001b[0;34m(\u001b[0m\u001b[0mi\u001b[0m\u001b[0;34m,\u001b[0m\u001b[0;36m2\u001b[0m\u001b[0;34m)\u001b[0m\u001b[0;34m)\u001b[0m\u001b[0;34m\u001b[0m\u001b[0;34m\u001b[0m\u001b[0m\n\u001b[0m\u001b[1;32m      5\u001b[0m \u001b[0mprint\u001b[0m\u001b[0;34m(\u001b[0m\u001b[0msquare\u001b[0m\u001b[0;34m)\u001b[0m\u001b[0;34m\u001b[0m\u001b[0;34m\u001b[0m\u001b[0m\n",
            "\u001b[0;31mTypeError\u001b[0m: 'int' object is not callable"
          ]
        }
      ],
      "source": [
        "numbers=[0,1,2,3,4,5,6,7,8,9,10]\n",
        "square=[]\n",
        "for i in numbers :\n",
        "  square.append(pow(i,2))\n",
        "print(square)"
      ]
    },
    {
      "cell_type": "code",
      "execution_count": 66,
      "metadata": {
        "colab": {
          "base_uri": "https://localhost:8080/"
        },
        "id": "zm6wQj1S9kHJ",
        "outputId": "1868b514-03bf-45a6-f778-257aee266b0a"
      },
      "outputs": [
        {
          "output_type": "stream",
          "name": "stdout",
          "text": [
            "[1, 4, 9, 16, 25, 36, 49]\n"
          ]
        }
      ],
      "source": [
        "square=[x**2 for x in numbers]\n",
        "print(square)"
      ]
    },
    {
      "cell_type": "code",
      "execution_count": 67,
      "metadata": {
        "colab": {
          "base_uri": "https://localhost:8080/"
        },
        "id": "WkBVxeE0fvON",
        "outputId": "59d65f0c-1c2f-4861-d0fa-d1f5c8517493"
      },
      "outputs": [
        {
          "output_type": "stream",
          "name": "stdout",
          "text": [
            "[1, 9, 25, 49]\n"
          ]
        }
      ],
      "source": [
        "odd_square=[x**2 for x in numbers if x%2!=0]\n",
        "print(odd_square)"
      ]
    },
    {
      "cell_type": "code",
      "execution_count": 68,
      "metadata": {
        "colab": {
          "base_uri": "https://localhost:8080/"
        },
        "id": "Fsjqhx_VgKgL",
        "outputId": "4a021fc4-cf4b-4801-d14a-19707db8847a"
      },
      "outputs": [
        {
          "output_type": "stream",
          "name": "stdout",
          "text": [
            "[(4, 6), (4, 8), (4, 9), (6, 4), (6, 8), (6, 9), (8, 4), (8, 6), (8, 9), (9, 4), (9, 6), (9, 8)]\n"
          ]
        }
      ],
      "source": [
        "A=[4,6,8,9]\n",
        "AxA=[(a,b) for a in A for b in A if a!=b ]\n",
        "print(AxA)"
      ]
    },
    {
      "cell_type": "markdown",
      "metadata": {
        "id": "SckHuOjF-oh5"
      },
      "source": [
        "DICTIONARY"
      ]
    },
    {
      "cell_type": "code",
      "execution_count": 69,
      "metadata": {
        "colab": {
          "base_uri": "https://localhost:8080/"
        },
        "id": "EtLo0M9Nh4hy",
        "outputId": "ff8bccac-35bb-4063-af7a-73b7a155e912"
      },
      "outputs": [
        {
          "output_type": "stream",
          "name": "stdout",
          "text": [
            "Manu\n"
          ]
        }
      ],
      "source": [
        "person={'name':'Manu','age':28}\n",
        "print(person['name'])"
      ]
    },
    {
      "cell_type": "code",
      "execution_count": 70,
      "metadata": {
        "colab": {
          "base_uri": "https://localhost:8080/"
        },
        "id": "WJG1pLdN-suO",
        "outputId": "2154678e-e845-4120-b808-9691110fc177"
      },
      "outputs": [
        {
          "output_type": "stream",
          "name": "stdout",
          "text": [
            "True\n"
          ]
        }
      ],
      "source": [
        "print('name' in person)"
      ]
    },
    {
      "cell_type": "code",
      "execution_count": 71,
      "metadata": {
        "colab": {
          "base_uri": "https://localhost:8080/"
        },
        "id": "CwzzJw4Ujxiv",
        "outputId": "0c0decc3-eb9b-4034-e6aa-72755876e868"
      },
      "outputs": [
        {
          "output_type": "stream",
          "name": "stdout",
          "text": [
            "False\n"
          ]
        }
      ],
      "source": [
        "print('sex' in person)"
      ]
    },
    {
      "cell_type": "code",
      "execution_count": 72,
      "metadata": {
        "colab": {
          "base_uri": "https://localhost:8080/"
        },
        "id": "6TILYts6j_29",
        "outputId": "faa0ef2e-426c-4d92-c7c1-7b56111f4202"
      },
      "outputs": [
        {
          "output_type": "stream",
          "name": "stdout",
          "text": [
            "{'name': 'Manu', 'age': 28, 'sex': 'male'}\n"
          ]
        }
      ],
      "source": [
        "person['sex']='male'\n",
        "print(person)"
      ]
    },
    {
      "cell_type": "code",
      "execution_count": 73,
      "metadata": {
        "colab": {
          "base_uri": "https://localhost:8080/"
        },
        "id": "HcE4ZKjgkKOl",
        "outputId": "157e4983-02df-4dd1-8d32-e8938a494b83"
      },
      "outputs": [
        {
          "output_type": "stream",
          "name": "stdout",
          "text": [
            "name Manu\n",
            "age 28\n",
            "sex male\n"
          ]
        }
      ],
      "source": [
        "for item in person:\n",
        "   print(item,person[item])"
      ]
    },
    {
      "cell_type": "code",
      "execution_count": 74,
      "metadata": {
        "colab": {
          "base_uri": "https://localhost:8080/"
        },
        "id": "DYCayf44kXUN",
        "outputId": "7d545ffc-9f19-40f9-cbda-9d9fffa07ce8"
      },
      "outputs": [
        {
          "output_type": "stream",
          "name": "stdout",
          "text": [
            "Name \t:\t Manu\n",
            "Age \t:\t 28\n",
            "Sex \t:\t male\n",
            "dict_keys(['name', 'age', 'sex'])\n"
          ]
        }
      ],
      "source": [
        "for(key,value)in person.items():\n",
        "   print(key.capitalize(),'\\t:\\t',value)\n",
        "print(person.keys())"
      ]
    },
    {
      "cell_type": "markdown",
      "metadata": {
        "id": "d1lJGf7Gknfs"
      },
      "source": [
        "**FUNCTIONS**"
      ]
    },
    {
      "cell_type": "markdown",
      "metadata": {
        "id": "oBj6kqdPlStc"
      },
      "source": [
        "FINDING THE SQUARE OF A NUMBER"
      ]
    },
    {
      "cell_type": "code",
      "execution_count": 75,
      "metadata": {
        "colab": {
          "base_uri": "https://localhost:8080/",
          "height": 321
        },
        "id": "EZxDoUlWlWX7",
        "outputId": "6678fb95-fc82-40cf-d350-df720878bbf1"
      },
      "outputs": [
        {
          "output_type": "error",
          "ename": "TypeError",
          "evalue": "ignored",
          "traceback": [
            "\u001b[0;31m---------------------------------------------------------------------------\u001b[0m",
            "\u001b[0;31mTypeError\u001b[0m                                 Traceback (most recent call last)",
            "\u001b[0;32m<ipython-input-75-56488a0388fb>\u001b[0m in \u001b[0;36m<module>\u001b[0;34m\u001b[0m\n\u001b[1;32m      1\u001b[0m \u001b[0;32mdef\u001b[0m \u001b[0msquare\u001b[0m\u001b[0;34m(\u001b[0m\u001b[0mnumber\u001b[0m\u001b[0;34m)\u001b[0m\u001b[0;34m:\u001b[0m\u001b[0;34m\u001b[0m\u001b[0;34m\u001b[0m\u001b[0m\n\u001b[1;32m      2\u001b[0m   \u001b[0;32mreturn\u001b[0m \u001b[0mpow\u001b[0m\u001b[0;34m(\u001b[0m\u001b[0mnumber\u001b[0m\u001b[0;34m,\u001b[0m\u001b[0;36m2\u001b[0m\u001b[0;34m)\u001b[0m\u001b[0;34m\u001b[0m\u001b[0;34m\u001b[0m\u001b[0m\n\u001b[0;32m----> 3\u001b[0;31m \u001b[0ms\u001b[0m\u001b[0;34m=\u001b[0m\u001b[0msquare\u001b[0m\u001b[0;34m(\u001b[0m\u001b[0;36m5\u001b[0m\u001b[0;34m)\u001b[0m\u001b[0;34m\u001b[0m\u001b[0;34m\u001b[0m\u001b[0m\n\u001b[0m\u001b[1;32m      4\u001b[0m \u001b[0mprint\u001b[0m\u001b[0;34m(\u001b[0m\u001b[0ms\u001b[0m\u001b[0;34m)\u001b[0m\u001b[0;34m\u001b[0m\u001b[0;34m\u001b[0m\u001b[0m\n",
            "\u001b[0;32m<ipython-input-75-56488a0388fb>\u001b[0m in \u001b[0;36msquare\u001b[0;34m(number)\u001b[0m\n\u001b[1;32m      1\u001b[0m \u001b[0;32mdef\u001b[0m \u001b[0msquare\u001b[0m\u001b[0;34m(\u001b[0m\u001b[0mnumber\u001b[0m\u001b[0;34m)\u001b[0m\u001b[0;34m:\u001b[0m\u001b[0;34m\u001b[0m\u001b[0;34m\u001b[0m\u001b[0m\n\u001b[0;32m----> 2\u001b[0;31m   \u001b[0;32mreturn\u001b[0m \u001b[0mpow\u001b[0m\u001b[0;34m(\u001b[0m\u001b[0mnumber\u001b[0m\u001b[0;34m,\u001b[0m\u001b[0;36m2\u001b[0m\u001b[0;34m)\u001b[0m\u001b[0;34m\u001b[0m\u001b[0;34m\u001b[0m\u001b[0m\n\u001b[0m\u001b[1;32m      3\u001b[0m \u001b[0ms\u001b[0m\u001b[0;34m=\u001b[0m\u001b[0msquare\u001b[0m\u001b[0;34m(\u001b[0m\u001b[0;36m5\u001b[0m\u001b[0;34m)\u001b[0m\u001b[0;34m\u001b[0m\u001b[0;34m\u001b[0m\u001b[0m\n\u001b[1;32m      4\u001b[0m \u001b[0mprint\u001b[0m\u001b[0;34m(\u001b[0m\u001b[0ms\u001b[0m\u001b[0;34m)\u001b[0m\u001b[0;34m\u001b[0m\u001b[0;34m\u001b[0m\u001b[0m\n",
            "\u001b[0;31mTypeError\u001b[0m: 'int' object is not callable"
          ]
        }
      ],
      "source": [
        "def square(number):\n",
        "  return pow(number,2)\n",
        "s=square(5)\n",
        "print(s)"
      ]
    },
    {
      "cell_type": "markdown",
      "metadata": {
        "id": "gEpv07KiFwNW"
      },
      "source": [
        "prime in given range"
      ]
    },
    {
      "cell_type": "code",
      "execution_count": 76,
      "metadata": {
        "colab": {
          "base_uri": "https://localhost:8080/"
        },
        "id": "HF1eQThwEgVP",
        "outputId": "f2a51389-a309-4ede-b7b1-46ea62e4bba4"
      },
      "outputs": [
        {
          "output_type": "stream",
          "name": "stdout",
          "text": [
            "Enter the number 71\n",
            "True\n"
          ]
        }
      ],
      "source": [
        "def isPrime(number):\n",
        "\n",
        "    for factor in range(2, (number//2)+1):\n",
        "        if number%factor == 0:\n",
        "\n",
        "              return False\n",
        "\n",
        "    return True\n",
        "\n",
        "number = int(input('Enter the number '))\n",
        "print(isPrime(number))"
      ]
    },
    {
      "cell_type": "code",
      "execution_count": 77,
      "metadata": {
        "colab": {
          "base_uri": "https://localhost:8080/"
        },
        "id": "v-zbQEOFnO6i",
        "outputId": "8a2a6fec-54e1-4357-a777-394a641bd0a6"
      },
      "outputs": [
        {
          "output_type": "stream",
          "name": "stdout",
          "text": [
            "5 7 11 13 17 19 23 29 31 37 41 43 47 "
          ]
        }
      ],
      "source": [
        "def printPrimes(llimit, ulimit):\n",
        "  for num in range(llimit,ulimit+1):\n",
        "    if isPrime(num)==True:\n",
        "      print(num,end=' ')\n",
        "printPrimes(5,50)\n"
      ]
    },
    {
      "cell_type": "markdown",
      "metadata": {
        "id": "aW5FmqzLF1B4"
      },
      "source": [
        "swap 2 numbers"
      ]
    },
    {
      "cell_type": "code",
      "execution_count": 78,
      "metadata": {
        "colab": {
          "base_uri": "https://localhost:8080/"
        },
        "id": "bccqzW_KnXOQ",
        "outputId": "46c87e65-b13d-425c-8c30-75da176b41ae"
      },
      "outputs": [
        {
          "output_type": "stream",
          "name": "stdout",
          "text": [
            "7 5\n"
          ]
        }
      ],
      "source": [
        "def swap(x,y):\n",
        "  t=x\n",
        "  x=y\n",
        "  y=t\n",
        "  return x,y\n",
        "a=5\n",
        "b=7\n",
        "a,b=swap(a,b)\n",
        "print(a,b)"
      ]
    }
  ],
  "metadata": {
    "colab": {
      "collapsed_sections": [],
      "name": "EXPERIMENT1_a.ipynb",
      "provenance": [],
      "include_colab_link": true
    },
    "kernelspec": {
      "display_name": "Python 3",
      "language": "python",
      "name": "python3"
    },
    "language_info": {
      "codemirror_mode": {
        "name": "ipython",
        "version": 3
      },
      "file_extension": ".py",
      "mimetype": "text/x-python",
      "name": "python",
      "nbconvert_exporter": "python",
      "pygments_lexer": "ipython3",
      "version": "3.8.8"
    }
  },
  "nbformat": 4,
  "nbformat_minor": 0
}